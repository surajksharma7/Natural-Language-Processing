{
 "cells": [
  {
   "cell_type": "code",
   "execution_count": 7,
   "id": "e8197ada-392c-4bbf-9db0-b8cc006679b9",
   "metadata": {},
   "outputs": [],
   "source": [
    "import numpy as np\n",
    "import pandas as pd"
   ]
  },
  {
   "cell_type": "code",
   "execution_count": 8,
   "id": "6fb1cadc-dce1-4fe0-a9cb-f09cae740e07",
   "metadata": {},
   "outputs": [
    {
     "data": {
      "text/html": [
       "<div>\n",
       "<style scoped>\n",
       "    .dataframe tbody tr th:only-of-type {\n",
       "        vertical-align: middle;\n",
       "    }\n",
       "\n",
       "    .dataframe tbody tr th {\n",
       "        vertical-align: top;\n",
       "    }\n",
       "\n",
       "    .dataframe thead th {\n",
       "        text-align: right;\n",
       "    }\n",
       "</style>\n",
       "<table border=\"1\" class=\"dataframe\">\n",
       "  <thead>\n",
       "    <tr style=\"text-align: right;\">\n",
       "      <th></th>\n",
       "      <th>review</th>\n",
       "      <th>sentiment</th>\n",
       "    </tr>\n",
       "  </thead>\n",
       "  <tbody>\n",
       "    <tr>\n",
       "      <th>0</th>\n",
       "      <td>One of the other reviewers has mentioned that ...</td>\n",
       "      <td>positive</td>\n",
       "    </tr>\n",
       "    <tr>\n",
       "      <th>1</th>\n",
       "      <td>A wonderful little production. &lt;br /&gt;&lt;br /&gt;The...</td>\n",
       "      <td>positive</td>\n",
       "    </tr>\n",
       "    <tr>\n",
       "      <th>2</th>\n",
       "      <td>I thought this was a wonderful way to spend ti...</td>\n",
       "      <td>positive</td>\n",
       "    </tr>\n",
       "    <tr>\n",
       "      <th>3</th>\n",
       "      <td>Basically there's a family where a little boy ...</td>\n",
       "      <td>negative</td>\n",
       "    </tr>\n",
       "    <tr>\n",
       "      <th>4</th>\n",
       "      <td>Petter Mattei's \"Love in the Time of Money\" is...</td>\n",
       "      <td>positive</td>\n",
       "    </tr>\n",
       "    <tr>\n",
       "      <th>...</th>\n",
       "      <td>...</td>\n",
       "      <td>...</td>\n",
       "    </tr>\n",
       "    <tr>\n",
       "      <th>49995</th>\n",
       "      <td>I thought this movie did a down right good job...</td>\n",
       "      <td>positive</td>\n",
       "    </tr>\n",
       "    <tr>\n",
       "      <th>49996</th>\n",
       "      <td>Bad plot, bad dialogue, bad acting, idiotic di...</td>\n",
       "      <td>negative</td>\n",
       "    </tr>\n",
       "    <tr>\n",
       "      <th>49997</th>\n",
       "      <td>I am a Catholic taught in parochial elementary...</td>\n",
       "      <td>negative</td>\n",
       "    </tr>\n",
       "    <tr>\n",
       "      <th>49998</th>\n",
       "      <td>I'm going to have to disagree with the previou...</td>\n",
       "      <td>negative</td>\n",
       "    </tr>\n",
       "    <tr>\n",
       "      <th>49999</th>\n",
       "      <td>No one expects the Star Trek movies to be high...</td>\n",
       "      <td>negative</td>\n",
       "    </tr>\n",
       "  </tbody>\n",
       "</table>\n",
       "<p>50000 rows × 2 columns</p>\n",
       "</div>"
      ],
      "text/plain": [
       "                                                  review sentiment\n",
       "0      One of the other reviewers has mentioned that ...  positive\n",
       "1      A wonderful little production. <br /><br />The...  positive\n",
       "2      I thought this was a wonderful way to spend ti...  positive\n",
       "3      Basically there's a family where a little boy ...  negative\n",
       "4      Petter Mattei's \"Love in the Time of Money\" is...  positive\n",
       "...                                                  ...       ...\n",
       "49995  I thought this movie did a down right good job...  positive\n",
       "49996  Bad plot, bad dialogue, bad acting, idiotic di...  negative\n",
       "49997  I am a Catholic taught in parochial elementary...  negative\n",
       "49998  I'm going to have to disagree with the previou...  negative\n",
       "49999  No one expects the Star Trek movies to be high...  negative\n",
       "\n",
       "[50000 rows x 2 columns]"
      ]
     },
     "execution_count": 8,
     "metadata": {},
     "output_type": "execute_result"
    }
   ],
   "source": [
    "df = pd.read_csv(\"IMDB Dataset.csv\")\n",
    "df"
   ]
  },
  {
   "cell_type": "markdown",
   "id": "e4f87197-8c33-4ae4-8805-22be59f31440",
   "metadata": {},
   "source": [
    "### LowerCasing"
   ]
  },
  {
   "cell_type": "code",
   "execution_count": 9,
   "id": "e584e1f6-1cc4-4f2d-aa52-166c03bdd8ca",
   "metadata": {},
   "outputs": [],
   "source": [
    "lowerCase = df['review'][0]"
   ]
  },
  {
   "cell_type": "code",
   "execution_count": 10,
   "id": "8a437190-3c60-4aaf-aded-f015e8b1804e",
   "metadata": {},
   "outputs": [
    {
     "data": {
      "text/plain": [
       "\"one of the other reviewers has mentioned that after watching just 1 oz episode you'll be hooked. they are right, as this is exactly what happened with me.<br /><br />the first thing that struck me about oz was its brutality and unflinching scenes of violence, which set in right from the word go. trust me, this is not a show for the faint hearted or timid. this show pulls no punches with regards to drugs, sex or violence. its is hardcore, in the classic use of the word.<br /><br />it is called oz as that is the nickname given to the oswald maximum security state penitentary. it focuses mainly on emerald city, an experimental section of the prison where all the cells have glass fronts and face inwards, so privacy is not high on the agenda. em city is home to many..aryans, muslims, gangstas, latinos, christians, italians, irish and more....so scuffles, death stares, dodgy dealings and shady agreements are never far away.<br /><br />i would say the main appeal of the show is due to the fact that it goes where other shows wouldn't dare. forget pretty pictures painted for mainstream audiences, forget charm, forget romance...oz doesn't mess around. the first episode i ever saw struck me as so nasty it was surreal, i couldn't say i was ready for it, but as i watched more, i developed a taste for oz, and got accustomed to the high levels of graphic violence. not just violence, but injustice (crooked guards who'll be sold out for a nickel, inmates who'll kill on order and get away with it, well mannered, middle class inmates being turned into prison bitches due to their lack of street skills or prison experience) watching oz, you may become comfortable with what is uncomfortable viewing....thats if you can get in touch with your darker side.\""
      ]
     },
     "execution_count": 10,
     "metadata": {},
     "output_type": "execute_result"
    }
   ],
   "source": [
    "lowerCase.lower()"
   ]
  },
  {
   "cell_type": "code",
   "execution_count": 11,
   "id": "1bd33baa-4c26-447b-8208-6e5718b8c56e",
   "metadata": {},
   "outputs": [
    {
     "data": {
      "text/plain": [
       "0        one of the other reviewers has mentioned that ...\n",
       "1        a wonderful little production. <br /><br />the...\n",
       "2        i thought this was a wonderful way to spend ti...\n",
       "3        basically there's a family where a little boy ...\n",
       "4        petter mattei's \"love in the time of money\" is...\n",
       "                               ...                        \n",
       "49995    i thought this movie did a down right good job...\n",
       "49996    bad plot, bad dialogue, bad acting, idiotic di...\n",
       "49997    i am a catholic taught in parochial elementary...\n",
       "49998    i'm going to have to disagree with the previou...\n",
       "49999    no one expects the star trek movies to be high...\n",
       "Name: review, Length: 50000, dtype: object"
      ]
     },
     "execution_count": 11,
     "metadata": {},
     "output_type": "execute_result"
    }
   ],
   "source": [
    "df['review'].str.lower()"
   ]
  },
  {
   "cell_type": "markdown",
   "id": "db1527f5-b7a2-49ee-9564-e6f8b72aaa61",
   "metadata": {},
   "source": [
    "### Removing html Tags"
   ]
  },
  {
   "cell_type": "code",
   "execution_count": 12,
   "id": "639886ad-f77d-4835-87d5-0dfaca400d1f",
   "metadata": {},
   "outputs": [],
   "source": [
    "sampleText = \"\"\"<!DOCTYPE html><html><head><title>Sample Webpage</title></head><body><h1>Welcome to My Website</h1><p>Hello! My name is <b>John Doe</b>, and I love programming in <i>Python</i> and <i>JavaScript</i>.</p><p>You can contact me at <a href=\"mailto:johndoe@example.com\">johndoe@example.com</a>.</p><p>Visit my portfolio at <a href=\"https://www.johndoeportfolio.com\">www.johndoeportfolio.com</a>.</p><div class=\"social\"><p>Follow me on:</p><ul><li><a href=\"https://twitter.com/johndoe\">@johndoe</a></li><li><a href=\"https://github.com/johndoe\">GitHub</a></li><li><a href=\"https://linkedin.com/in/johndoe\">LinkedIn</a></li></ul></div><footer><p>© 2025 John Doe. All rights reserved.</p></footer></body></html>\"\"\""
   ]
  },
  {
   "cell_type": "code",
   "execution_count": 13,
   "id": "5d5c4cc6-9f8a-4f85-9f8f-31715a7b7731",
   "metadata": {},
   "outputs": [
    {
     "data": {
      "text/plain": [
       "'<!DOCTYPE html><html><head><title>Sample Webpage</title></head><body><h1>Welcome to My Website</h1><p>Hello! My name is <b>John Doe</b>, and I love programming in <i>Python</i> and <i>JavaScript</i>.</p><p>You can contact me at <a href=\"mailto:johndoe@example.com\">johndoe@example.com</a>.</p><p>Visit my portfolio at <a href=\"https://www.johndoeportfolio.com\">www.johndoeportfolio.com</a>.</p><div class=\"social\"><p>Follow me on:</p><ul><li><a href=\"https://twitter.com/johndoe\">@johndoe</a></li><li><a href=\"https://github.com/johndoe\">GitHub</a></li><li><a href=\"https://linkedin.com/in/johndoe\">LinkedIn</a></li></ul></div><footer><p>© 2025 John Doe. All rights reserved.</p></footer></body></html>'"
      ]
     },
     "execution_count": 13,
     "metadata": {},
     "output_type": "execute_result"
    }
   ],
   "source": [
    "sampleText"
   ]
  },
  {
   "cell_type": "code",
   "execution_count": 14,
   "id": "941ffd5f-e420-455a-b58c-6ee1bd6b322e",
   "metadata": {},
   "outputs": [],
   "source": [
    "import re\n",
    "\n",
    "def striphtml(data):\n",
    "    p = re.compile(r'<.*?>')\n",
    "    return p.sub('',data)"
   ]
  },
  {
   "cell_type": "code",
   "execution_count": 15,
   "id": "d8482ecb-e454-4e47-8b32-0210ac935ae3",
   "metadata": {},
   "outputs": [
    {
     "data": {
      "text/plain": [
       "'Sample WebpageWelcome to My WebsiteHello! My name is John Doe, and I love programming in Python and JavaScript.You can contact me at johndoe@example.com.Visit my portfolio at www.johndoeportfolio.com.Follow me on:@johndoeGitHubLinkedIn© 2025 John Doe. All rights reserved.'"
      ]
     },
     "execution_count": 15,
     "metadata": {},
     "output_type": "execute_result"
    }
   ],
   "source": [
    "striphtml(sampleText)"
   ]
  },
  {
   "cell_type": "code",
   "execution_count": 16,
   "id": "0c07b5fd-f94c-4592-82be-cf0c008576f2",
   "metadata": {},
   "outputs": [
    {
     "data": {
      "text/plain": [
       "0        One of the other reviewers has mentioned that ...\n",
       "1        A wonderful little production. The filming tec...\n",
       "2        I thought this was a wonderful way to spend ti...\n",
       "3        Basically there's a family where a little boy ...\n",
       "4        Petter Mattei's \"Love in the Time of Money\" is...\n",
       "                               ...                        \n",
       "49995    I thought this movie did a down right good job...\n",
       "49996    Bad plot, bad dialogue, bad acting, idiotic di...\n",
       "49997    I am a Catholic taught in parochial elementary...\n",
       "49998    I'm going to have to disagree with the previou...\n",
       "49999    No one expects the Star Trek movies to be high...\n",
       "Name: review, Length: 50000, dtype: object"
      ]
     },
     "execution_count": 16,
     "metadata": {},
     "output_type": "execute_result"
    }
   ],
   "source": [
    "df['review'].apply(striphtml)"
   ]
  },
  {
   "cell_type": "markdown",
   "id": "e19ba56a-ddb0-47b4-bbd8-3e2811b3cfa5",
   "metadata": {},
   "source": [
    "### Removing Urls"
   ]
  },
  {
   "cell_type": "code",
   "execution_count": 17,
   "id": "bc416a96-f81b-4fd9-acce-15ce19514b70",
   "metadata": {},
   "outputs": [],
   "source": [
    "text1 = \"Check out my notebook https://www.kaggle.com/campusx/notebook8223fc1abb\"\n",
    "text2 = \"Check out my notebook http://www.kaggle.com/campusx/notebook8223fc1abb\"\n",
    "text3 = \"Google search here www.google.com\"\n",
    "text4 = \"For notebook click https://www.kaggle.com/campusx/notebook8223fc1abb to search check www.google.com\""
   ]
  },
  {
   "cell_type": "code",
   "execution_count": 18,
   "id": "87cfe65d-2bed-4f6e-875a-587fed1a5933",
   "metadata": {},
   "outputs": [],
   "source": [
    "def removeUrl(text):\n",
    "    pattern = re.compile(r'https?://\\S+|www\\.\\S+')\n",
    "    return pattern.sub(r'', text)"
   ]
  },
  {
   "cell_type": "code",
   "execution_count": 19,
   "id": "8a95d010-f943-4dee-b1c2-cd57c57ef9a6",
   "metadata": {},
   "outputs": [
    {
     "data": {
      "text/plain": [
       "'Check out my notebook '"
      ]
     },
     "execution_count": 19,
     "metadata": {},
     "output_type": "execute_result"
    }
   ],
   "source": [
    "removeUrl(text1)"
   ]
  },
  {
   "cell_type": "code",
   "execution_count": 20,
   "id": "62c200d8-ae96-4552-b186-29d0130d60e4",
   "metadata": {},
   "outputs": [
    {
     "data": {
      "text/plain": [
       "0        One of the other reviewers has mentioned that ...\n",
       "1        A wonderful little production. <br /><br />The...\n",
       "2        I thought this was a wonderful way to spend ti...\n",
       "3        Basically there's a family where a little boy ...\n",
       "4        Petter Mattei's \"Love in the Time of Money\" is...\n",
       "                               ...                        \n",
       "49995    I thought this movie did a down right good job...\n",
       "49996    Bad plot, bad dialogue, bad acting, idiotic di...\n",
       "49997    I am a Catholic taught in parochial elementary...\n",
       "49998    I'm going to have to disagree with the previou...\n",
       "49999    No one expects the Star Trek movies to be high...\n",
       "Name: review, Length: 50000, dtype: object"
      ]
     },
     "execution_count": 20,
     "metadata": {},
     "output_type": "execute_result"
    }
   ],
   "source": [
    "df['review'].apply(removeUrl) "
   ]
  },
  {
   "cell_type": "markdown",
   "id": "dd9197d1-c24b-49ac-9d46-003f7e4aa106",
   "metadata": {},
   "source": [
    "### Remove Punctuations"
   ]
  },
  {
   "cell_type": "code",
   "execution_count": 21,
   "id": "6c4ce2d9-4634-4526-8ec8-82b6e50b04e2",
   "metadata": {},
   "outputs": [],
   "source": [
    "import string, time"
   ]
  },
  {
   "cell_type": "code",
   "execution_count": 22,
   "id": "182658a2-74fa-4a63-aff8-b98eac95adc1",
   "metadata": {},
   "outputs": [
    {
     "data": {
      "text/plain": [
       "'!\"#$%&\\'()*+,-./:;<=>?@[\\\\]^_`{|}~'"
      ]
     },
     "execution_count": 22,
     "metadata": {},
     "output_type": "execute_result"
    }
   ],
   "source": [
    "string.punctuation"
   ]
  },
  {
   "cell_type": "code",
   "execution_count": 23,
   "id": "f831c802-e843-4312-8d43-f77ea4543d1e",
   "metadata": {},
   "outputs": [],
   "source": [
    "exclude = string.punctuation"
   ]
  },
  {
   "cell_type": "code",
   "execution_count": 24,
   "id": "a120f79f-4187-48ed-999f-d03533c84084",
   "metadata": {},
   "outputs": [],
   "source": [
    "def removePunc(text):\n",
    "    for char in exclude:\n",
    "        text = text.replace(char, '')\n",
    "    return text"
   ]
  },
  {
   "cell_type": "code",
   "execution_count": 25,
   "id": "d8c2aff2-f7e6-4b47-9888-b556e1f4a4c4",
   "metadata": {},
   "outputs": [],
   "source": [
    "text = \"Petter Mattei's 'Love in the Time of Money'\""
   ]
  },
  {
   "cell_type": "code",
   "execution_count": 26,
   "id": "19fd4afd-d448-4361-a0dc-03de935d9852",
   "metadata": {},
   "outputs": [
    {
     "data": {
      "text/plain": [
       "'Petter Matteis Love in the Time of Money'"
      ]
     },
     "execution_count": 26,
     "metadata": {},
     "output_type": "execute_result"
    }
   ],
   "source": [
    "removePunc(text)"
   ]
  },
  {
   "cell_type": "code",
   "execution_count": 27,
   "id": "68cb8c64-292c-45ea-9601-1f6042471025",
   "metadata": {},
   "outputs": [],
   "source": [
    "import string\n",
    "\n",
    "def removePunc1(text, exclude=\"'\\\"\"):\n",
    "    remove = ''.join(ch for ch in string.punctuation if ch not in exclude)\n",
    "    return text.translate(str.maketrans('', '', remove))"
   ]
  },
  {
   "cell_type": "code",
   "execution_count": 28,
   "id": "253e1cc9-06da-4bd9-add0-5a6e86cb5fb2",
   "metadata": {},
   "outputs": [
    {
     "data": {
      "text/plain": [
       "'Petter Matteis Love in the Time of Money'"
      ]
     },
     "execution_count": 28,
     "metadata": {},
     "output_type": "execute_result"
    }
   ],
   "source": [
    "removePunc(text)"
   ]
  },
  {
   "cell_type": "code",
   "execution_count": 29,
   "id": "239e4257-c386-437f-8541-40ceff6877e2",
   "metadata": {},
   "outputs": [
    {
     "data": {
      "text/plain": [
       "0        One of the other reviewers has mentioned that ...\n",
       "1        A wonderful little production br br The filmin...\n",
       "2        I thought this was a wonderful way to spend ti...\n",
       "3        Basically there's a family where a little boy ...\n",
       "4        Petter Mattei's \"Love in the Time of Money\" is...\n",
       "                               ...                        \n",
       "49995    I thought this movie did a down right good job...\n",
       "49996    Bad plot bad dialogue bad acting idiotic direc...\n",
       "49997    I am a Catholic taught in parochial elementary...\n",
       "49998    I'm going to have to disagree with the previou...\n",
       "49999    No one expects the Star Trek movies to be high...\n",
       "Name: review, Length: 50000, dtype: object"
      ]
     },
     "execution_count": 29,
     "metadata": {},
     "output_type": "execute_result"
    }
   ],
   "source": [
    "df['review'].apply(removePunc1)"
   ]
  },
  {
   "cell_type": "markdown",
   "id": "6daed744-f213-4e0f-bfe0-f5d35af7951c",
   "metadata": {},
   "source": [
    "### Chat Word treatment"
   ]
  },
  {
   "cell_type": "code",
   "execution_count": 30,
   "id": "0acb8f06-39c8-43fd-9e1f-c304a97d3a65",
   "metadata": {},
   "outputs": [],
   "source": [
    "slang = {}\n",
    "\n",
    "with open(\"slang.txt\", \"r\", encoding=\"utf-8\") as f:\n",
    "    for line in f:\n",
    "        line = line.strip()\n",
    "        if \"=\" in line:\n",
    "            key, value = line.split(\"=\",1)\n",
    "            slang[key.strip()]  = value.strip()"
   ]
  },
  {
   "cell_type": "code",
   "execution_count": 31,
   "id": "6d17adeb-9f03-4ee3-b6f5-47f9ddc3ca59",
   "metadata": {},
   "outputs": [],
   "source": [
    "def chat_conversation(text):\n",
    "    newText = []\n",
    "    for w in text.split():\n",
    "        if w.upper() in slang:\n",
    "            newText.append(slang[w.upper()])\n",
    "        else:\n",
    "            newText.append(w)\n",
    "    return \" \".join(newText)\n"
   ]
  },
  {
   "cell_type": "code",
   "execution_count": 32,
   "id": "b61a8232-c341-4990-bf41-115ab7d52cab",
   "metadata": {},
   "outputs": [
    {
     "data": {
      "text/plain": [
       "'Bursting With Laughter'"
      ]
     },
     "execution_count": 32,
     "metadata": {},
     "output_type": "execute_result"
    }
   ],
   "source": [
    "chat_conversation(\"BWL\")"
   ]
  },
  {
   "cell_type": "markdown",
   "id": "f564140c-3cfa-4358-81a4-4ea33bdbce87",
   "metadata": {},
   "source": [
    "### Spelling Correction"
   ]
  },
  {
   "cell_type": "code",
   "execution_count": 33,
   "id": "b1586478-ec63-4702-b32f-33335aba7690",
   "metadata": {},
   "outputs": [],
   "source": [
    "text = \"please read the notebook, and also like the ntebook\""
   ]
  },
  {
   "cell_type": "code",
   "execution_count": 34,
   "id": "250c8b31-adc8-470b-ad7b-8a30efd466f5",
   "metadata": {},
   "outputs": [
    {
     "data": {
      "text/plain": [
       "'please read the notebook, and also like the notebook'"
      ]
     },
     "execution_count": 34,
     "metadata": {},
     "output_type": "execute_result"
    }
   ],
   "source": [
    "from textblob import TextBlob\n",
    "\n",
    "textblb = TextBlob(text)\n",
    "textblb.correct().string"
   ]
  },
  {
   "cell_type": "markdown",
   "id": "f1699891-49d3-4dab-8920-87a5e9c54dcb",
   "metadata": {},
   "source": [
    "### Removing Stopwords"
   ]
  },
  {
   "cell_type": "code",
   "execution_count": 35,
   "id": "caf76e33-04ea-4713-add7-de49de9752a8",
   "metadata": {},
   "outputs": [],
   "source": [
    "from nltk.corpus import stopwords"
   ]
  },
  {
   "cell_type": "code",
   "execution_count": 36,
   "id": "787aeaf7-b013-4c33-9d7d-a138c83a1086",
   "metadata": {},
   "outputs": [
    {
     "data": {
      "text/plain": [
       "['a',\n",
       " 'about',\n",
       " 'above',\n",
       " 'after',\n",
       " 'again',\n",
       " 'against',\n",
       " 'ain',\n",
       " 'all',\n",
       " 'am',\n",
       " 'an',\n",
       " 'and',\n",
       " 'any',\n",
       " 'are',\n",
       " 'aren',\n",
       " \"aren't\",\n",
       " 'as',\n",
       " 'at',\n",
       " 'be',\n",
       " 'because',\n",
       " 'been',\n",
       " 'before',\n",
       " 'being',\n",
       " 'below',\n",
       " 'between',\n",
       " 'both',\n",
       " 'but',\n",
       " 'by',\n",
       " 'can',\n",
       " 'couldn',\n",
       " \"couldn't\",\n",
       " 'd',\n",
       " 'did',\n",
       " 'didn',\n",
       " \"didn't\",\n",
       " 'do',\n",
       " 'does',\n",
       " 'doesn',\n",
       " \"doesn't\",\n",
       " 'doing',\n",
       " 'don',\n",
       " \"don't\",\n",
       " 'down',\n",
       " 'during',\n",
       " 'each',\n",
       " 'few',\n",
       " 'for',\n",
       " 'from',\n",
       " 'further',\n",
       " 'had',\n",
       " 'hadn',\n",
       " \"hadn't\",\n",
       " 'has',\n",
       " 'hasn',\n",
       " \"hasn't\",\n",
       " 'have',\n",
       " 'haven',\n",
       " \"haven't\",\n",
       " 'having',\n",
       " 'he',\n",
       " \"he'd\",\n",
       " \"he'll\",\n",
       " 'her',\n",
       " 'here',\n",
       " 'hers',\n",
       " 'herself',\n",
       " \"he's\",\n",
       " 'him',\n",
       " 'himself',\n",
       " 'his',\n",
       " 'how',\n",
       " 'i',\n",
       " \"i'd\",\n",
       " 'if',\n",
       " \"i'll\",\n",
       " \"i'm\",\n",
       " 'in',\n",
       " 'into',\n",
       " 'is',\n",
       " 'isn',\n",
       " \"isn't\",\n",
       " 'it',\n",
       " \"it'd\",\n",
       " \"it'll\",\n",
       " \"it's\",\n",
       " 'its',\n",
       " 'itself',\n",
       " \"i've\",\n",
       " 'just',\n",
       " 'll',\n",
       " 'm',\n",
       " 'ma',\n",
       " 'me',\n",
       " 'mightn',\n",
       " \"mightn't\",\n",
       " 'more',\n",
       " 'most',\n",
       " 'mustn',\n",
       " \"mustn't\",\n",
       " 'my',\n",
       " 'myself',\n",
       " 'needn',\n",
       " \"needn't\",\n",
       " 'no',\n",
       " 'nor',\n",
       " 'not',\n",
       " 'now',\n",
       " 'o',\n",
       " 'of',\n",
       " 'off',\n",
       " 'on',\n",
       " 'once',\n",
       " 'only',\n",
       " 'or',\n",
       " 'other',\n",
       " 'our',\n",
       " 'ours',\n",
       " 'ourselves',\n",
       " 'out',\n",
       " 'over',\n",
       " 'own',\n",
       " 're',\n",
       " 's',\n",
       " 'same',\n",
       " 'shan',\n",
       " \"shan't\",\n",
       " 'she',\n",
       " \"she'd\",\n",
       " \"she'll\",\n",
       " \"she's\",\n",
       " 'should',\n",
       " 'shouldn',\n",
       " \"shouldn't\",\n",
       " \"should've\",\n",
       " 'so',\n",
       " 'some',\n",
       " 'such',\n",
       " 't',\n",
       " 'than',\n",
       " 'that',\n",
       " \"that'll\",\n",
       " 'the',\n",
       " 'their',\n",
       " 'theirs',\n",
       " 'them',\n",
       " 'themselves',\n",
       " 'then',\n",
       " 'there',\n",
       " 'these',\n",
       " 'they',\n",
       " \"they'd\",\n",
       " \"they'll\",\n",
       " \"they're\",\n",
       " \"they've\",\n",
       " 'this',\n",
       " 'those',\n",
       " 'through',\n",
       " 'to',\n",
       " 'too',\n",
       " 'under',\n",
       " 'until',\n",
       " 'up',\n",
       " 've',\n",
       " 'very',\n",
       " 'was',\n",
       " 'wasn',\n",
       " \"wasn't\",\n",
       " 'we',\n",
       " \"we'd\",\n",
       " \"we'll\",\n",
       " \"we're\",\n",
       " 'were',\n",
       " 'weren',\n",
       " \"weren't\",\n",
       " \"we've\",\n",
       " 'what',\n",
       " 'when',\n",
       " 'where',\n",
       " 'which',\n",
       " 'while',\n",
       " 'who',\n",
       " 'whom',\n",
       " 'why',\n",
       " 'will',\n",
       " 'with',\n",
       " 'won',\n",
       " \"won't\",\n",
       " 'wouldn',\n",
       " \"wouldn't\",\n",
       " 'y',\n",
       " 'you',\n",
       " \"you'd\",\n",
       " \"you'll\",\n",
       " 'your',\n",
       " \"you're\",\n",
       " 'yours',\n",
       " 'yourself',\n",
       " 'yourselves',\n",
       " \"you've\"]"
      ]
     },
     "execution_count": 36,
     "metadata": {},
     "output_type": "execute_result"
    }
   ],
   "source": [
    "stopwords.words(\"english\")"
   ]
  },
  {
   "cell_type": "code",
   "execution_count": 37,
   "id": "cdc79322-1ada-4142-9d95-a06fa39fa3ec",
   "metadata": {},
   "outputs": [],
   "source": [
    "def remove_stopwords(text):\n",
    "    new_text = []\n",
    "    stop_words = set(stopwords.words('english'))\n",
    "    \n",
    "    for word in text.split():\n",
    "        if word.lower() not in stop_words: \n",
    "            new_text.append(word)\n",
    "    \n",
    "    return \" \".join(new_text)"
   ]
  },
  {
   "cell_type": "code",
   "execution_count": null,
   "id": "b3a01688-d80d-44cf-b3ed-07e02870fe2b",
   "metadata": {},
   "outputs": [],
   "source": []
  }
 ],
 "metadata": {
  "kernelspec": {
   "display_name": "Python 3 (ipykernel)",
   "language": "python",
   "name": "python3"
  },
  "language_info": {
   "codemirror_mode": {
    "name": "ipython",
    "version": 3
   },
   "file_extension": ".py",
   "mimetype": "text/x-python",
   "name": "python",
   "nbconvert_exporter": "python",
   "pygments_lexer": "ipython3",
   "version": "3.13.5"
  }
 },
 "nbformat": 4,
 "nbformat_minor": 5
}
