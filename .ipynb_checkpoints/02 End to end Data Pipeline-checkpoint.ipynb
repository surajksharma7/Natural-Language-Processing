{
 "cells": [
  {
   "cell_type": "markdown",
   "id": "1225b15f-df48-41b1-a7ea-d86b2b29c0fb",
   "metadata": {},
   "source": [
    "### Remove Html tags"
   ]
  },
  {
   "cell_type": "code",
   "execution_count": 1,
   "id": "fdd9ab09-2385-41df-88c2-7f8b4911fe18",
   "metadata": {},
   "outputs": [],
   "source": [
    "sampleText = \"\"\"<!DOCTYPE html><html><head><title>Sample Webpage</title></head><body><h1>Welcome to My Website</h1><p>Hello! My name is <b>John Doe</b>, and I love programming in <i>Python</i> and <i>JavaScript</i>.</p><p>You can contact me at <a href=\"mailto:johndoe@example.com\">johndoe@example.com</a>.</p><p>Visit my portfolio at <a href=\"https://www.johndoeportfolio.com\">www.johndoeportfolio.com</a>.</p><div class=\"social\"><p>Follow me on:</p><ul><li><a href=\"https://twitter.com/johndoe\">@johndoe</a></li><li><a href=\"https://github.com/johndoe\">GitHub</a></li><li><a href=\"https://linkedin.com/in/johndoe\">LinkedIn</a></li></ul></div><footer><p>© 2025 John Doe. All rights reserved.</p></footer></body></html>\"\"\""
   ]
  },
  {
   "cell_type": "code",
   "execution_count": 2,
   "id": "1d08dce0-9945-4898-859c-e6df59a04fcd",
   "metadata": {},
   "outputs": [
    {
     "data": {
      "text/plain": [
       "'<!DOCTYPE html><html><head><title>Sample Webpage</title></head><body><h1>Welcome to My Website</h1><p>Hello! My name is <b>John Doe</b>, and I love programming in <i>Python</i> and <i>JavaScript</i>.</p><p>You can contact me at <a href=\"mailto:johndoe@example.com\">johndoe@example.com</a>.</p><p>Visit my portfolio at <a href=\"https://www.johndoeportfolio.com\">www.johndoeportfolio.com</a>.</p><div class=\"social\"><p>Follow me on:</p><ul><li><a href=\"https://twitter.com/johndoe\">@johndoe</a></li><li><a href=\"https://github.com/johndoe\">GitHub</a></li><li><a href=\"https://linkedin.com/in/johndoe\">LinkedIn</a></li></ul></div><footer><p>© 2025 John Doe. All rights reserved.</p></footer></body></html>'"
      ]
     },
     "execution_count": 2,
     "metadata": {},
     "output_type": "execute_result"
    }
   ],
   "source": [
    "sampleText"
   ]
  },
  {
   "cell_type": "code",
   "execution_count": 3,
   "id": "542f2aea-89e1-4ca5-a552-cbf231ece1d4",
   "metadata": {},
   "outputs": [],
   "source": [
    "import re\n",
    "\n",
    "def striphtml(data):\n",
    "    p = re.compile(r'<.*?>')\n",
    "    return p.sub('',data)"
   ]
  },
  {
   "cell_type": "code",
   "execution_count": 4,
   "id": "8cd09474-6e9d-452e-b8c2-342596d83008",
   "metadata": {},
   "outputs": [
    {
     "data": {
      "text/plain": [
       "'Sample WebpageWelcome to My WebsiteHello! My name is John Doe, and I love programming in Python and JavaScript.You can contact me at johndoe@example.com.Visit my portfolio at www.johndoeportfolio.com.Follow me on:@johndoeGitHubLinkedIn© 2025 John Doe. All rights reserved.'"
      ]
     },
     "execution_count": 4,
     "metadata": {},
     "output_type": "execute_result"
    }
   ],
   "source": [
    "striphtml(sampleText)"
   ]
  },
  {
   "cell_type": "markdown",
   "id": "c5214c5f-53dc-415c-9925-ff3b7367587a",
   "metadata": {},
   "source": [
    "### Unicode removal"
   ]
  },
  {
   "cell_type": "code",
   "execution_count": 5,
   "id": "21da7fea-db24-4b5f-a212-620796ae7be3",
   "metadata": {},
   "outputs": [],
   "source": [
    "emojiText = \"\"\"Hey there! 👋 I'm John 😊 I love programming 💻, coffee ☕, and traveling 🌍.You can reach me at johndoe@example.com 📧Follow me on Twitter 🐦 @JohnCode or visit my website 🌐 https://www.johndoeportfolio.comLet's build something awesome together! 🚀🔥\"\"\""
   ]
  },
  {
   "cell_type": "code",
   "execution_count": 6,
   "id": "e9c25b66-c78b-4fb6-816f-53de44ca233e",
   "metadata": {},
   "outputs": [
    {
     "data": {
      "text/plain": [
       "\"Hey there! 👋 I'm John 😊 I love programming 💻, coffee ☕, and traveling 🌍.You can reach me at johndoe@example.com 📧Follow me on Twitter 🐦 @JohnCode or visit my website 🌐 https://www.johndoeportfolio.comLet's build something awesome together! 🚀🔥\""
      ]
     },
     "execution_count": 6,
     "metadata": {},
     "output_type": "execute_result"
    }
   ],
   "source": [
    "emojiText"
   ]
  },
  {
   "cell_type": "code",
   "execution_count": 7,
   "id": "778875ce-f1c6-4433-9132-7f3746bd17f6",
   "metadata": {},
   "outputs": [
    {
     "data": {
      "text/plain": [
       "b\"Hey there! \\xf0\\x9f\\x91\\x8b I'm John \\xf0\\x9f\\x98\\x8a I love programming \\xf0\\x9f\\x92\\xbb, coffee \\xe2\\x98\\x95, and traveling \\xf0\\x9f\\x8c\\x8d.You can reach me at johndoe@example.com \\xf0\\x9f\\x93\\xa7Follow me on Twitter \\xf0\\x9f\\x90\\xa6 @JohnCode or visit my website \\xf0\\x9f\\x8c\\x90 https://www.johndoeportfolio.comLet's build something awesome together! \\xf0\\x9f\\x9a\\x80\\xf0\\x9f\\x94\\xa5\""
      ]
     },
     "execution_count": 7,
     "metadata": {},
     "output_type": "execute_result"
    }
   ],
   "source": [
    "emojiText.encode('utf-8')"
   ]
  },
  {
   "cell_type": "markdown",
   "id": "091b1297-4c8a-498b-baf2-075895ed5445",
   "metadata": {},
   "source": [
    "### Spelling Checker"
   ]
  },
  {
   "cell_type": "code",
   "execution_count": 8,
   "id": "5dc8b89a-c717-4ce7-93c8-b7a8e353a4f2",
   "metadata": {},
   "outputs": [],
   "source": [
    "incorrectText = \"ceertain conditionas during seveal ggenerations aree modiffied in the same maner\""
   ]
  },
  {
   "cell_type": "code",
   "execution_count": 11,
   "id": "d6938435-ebc1-4b1b-b0b5-61873fdbc4d7",
   "metadata": {},
   "outputs": [
    {
     "name": "stdout",
     "output_type": "stream",
     "text": [
      "certain conditions during several generations are modified in the same manner\n"
     ]
    }
   ],
   "source": [
    "from textblob import TextBlob\n",
    "textblb = TextBlob(incorrectText)\n",
    "print(textblb.correct())"
   ]
  },
  {
   "cell_type": "markdown",
   "id": "3670d1eb-5c87-4371-8599-42acdd3a4df3",
   "metadata": {},
   "source": [
    "### Sentence Tokenization"
   ]
  },
  {
   "cell_type": "code",
   "execution_count": 12,
   "id": "762bbfa4-7217-4bca-bb55-2f9e68ecbd8b",
   "metadata": {},
   "outputs": [],
   "source": [
    "dummyText = \"Thiss is a smple txt paragraf for NLP practce. It contans some speling erors, extra spaces  and random puncuations!!! The goal is to cleen, corect, and preproces this data before using it for any machne learning or text analyssis tasks.\""
   ]
  },
  {
   "cell_type": "code",
   "execution_count": 13,
   "id": "cc1fc7b3-6198-4631-9e0d-f248fafd309a",
   "metadata": {},
   "outputs": [],
   "source": [
    "from nltk.tokenize import sent_tokenize, word_tokenize"
   ]
  },
  {
   "cell_type": "code",
   "execution_count": 17,
   "id": "032f7521-1f4e-4a0f-9d7b-e5696c13d636",
   "metadata": {},
   "outputs": [],
   "source": [
    "sent = sent_tokenize(dummyText)"
   ]
  },
  {
   "cell_type": "code",
   "execution_count": 18,
   "id": "085cc2e9-fe52-4138-b8c7-7ba277304ab4",
   "metadata": {},
   "outputs": [
    {
     "data": {
      "text/plain": [
       "['Thiss is a smple txt paragraf for NLP practce.',\n",
       " 'It contans some speling erors, extra spaces  and random puncuations!!!',\n",
       " 'The goal is to cleen, corect, and preproces this data before using it for any machne learning or text analyssis tasks.']"
      ]
     },
     "execution_count": 18,
     "metadata": {},
     "output_type": "execute_result"
    }
   ],
   "source": [
    "sent"
   ]
  },
  {
   "cell_type": "code",
   "execution_count": 19,
   "id": "785701be-ef22-4fda-b080-e69a49c4cd53",
   "metadata": {},
   "outputs": [],
   "source": [
    "word = word_tokenize(dummyText)"
   ]
  },
  {
   "cell_type": "code",
   "execution_count": 23,
   "id": "329e9507-a923-4ef7-b275-96c0f4a29095",
   "metadata": {},
   "outputs": [
    {
     "name": "stdout",
     "output_type": "stream",
     "text": [
      "['Thiss', 'is', 'a', 'smple', 'txt', 'paragraf', 'for', 'NLP', 'practce', '.']\n",
      "['It', 'contans', 'some', 'speling', 'erors', ',', 'extra', 'spaces', 'and', 'random', 'puncuations', '!', '!', '!']\n",
      "['The', 'goal', 'is', 'to', 'cleen', ',', 'corect', ',', 'and', 'preproces', 'this', 'data', 'before', 'using', 'it', 'for', 'any', 'machne', 'learning', 'or', 'text', 'analyssis', 'tasks', '.']\n"
     ]
    }
   ],
   "source": [
    "for sent_ in sent:\n",
    "    print(word_tokenize(sent_))"
   ]
  },
  {
   "cell_type": "markdown",
   "id": "c3329e61-9671-4896-92d0-0c44d93f5df2",
   "metadata": {},
   "source": []
  },
  {
   "cell_type": "code",
   "execution_count": null,
   "id": "e26a8415-2ff2-4857-b88b-98febb6d12a1",
   "metadata": {},
   "outputs": [],
   "source": []
  }
 ],
 "metadata": {
  "kernelspec": {
   "display_name": "Python 3 (ipykernel)",
   "language": "python",
   "name": "python3"
  },
  "language_info": {
   "codemirror_mode": {
    "name": "ipython",
    "version": 3
   },
   "file_extension": ".py",
   "mimetype": "text/x-python",
   "name": "python",
   "nbconvert_exporter": "python",
   "pygments_lexer": "ipython3",
   "version": "3.13.5"
  }
 },
 "nbformat": 4,
 "nbformat_minor": 5
}
